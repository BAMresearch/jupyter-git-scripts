{
 "cells": [
  {
   "cell_type": "markdown",
   "metadata": {},
   "source": [
    "# Some meaningful title\n",
    "\n",
    "<img align=\"left\" style=\"padding: 0em 1em 0 0;\" src=\"info/avatar-generic.png\" height=\"110px\" width=\"110px\">\n",
    "<!-- https://commons.wikimedia.org/wiki/File:Portrait_Placeholder.png#Licensing -->\n",
    "<table align=\"left\" style=\"text-align: left;\">\n",
    "    <tr><th>Author:</th><th>&lt;full name&gt;</th></tr>\n",
    "    <tr><td>Email: </td><td>&lt;email&gt;@&lt;provider&gt;.de</td></tr>\n",
    "    <tr><td>Phone: </td><td>+49 30 xxxx</td></tr>\n",
    "    <tr><td>Fax:   </td><td>+49 30 yyyy</td></tr>\n",
    "    <tr><td></td><td></td></tr>\n",
    "</table><br style=\"clear:both\" />\n",
    "\n",
    "## Description\n",
    "\n",
    "Some words what this document does or should be used for ..."
   ]
  },
  {
   "cell_type": "markdown",
   "metadata": {},
   "source": [
    "## Document Status"
   ]
  },
  {
   "cell_type": "code",
   "execution_count": null,
   "metadata": {},
   "outputs": [],
   "source": [
    "from jupyter_analysis_tools import checkRepo, readPDH, reBin, currentNBpath\n",
    "checkRepo()"
   ]
  },
  {
   "cell_type": "markdown",
   "metadata": {},
   "source": [
    "## Definitions and Imports"
   ]
  },
  {
   "cell_type": "code",
   "execution_count": null,
   "metadata": {},
   "outputs": [],
   "source": [
    "# some imports typically"
   ]
  },
  {
   "cell_type": "code",
   "execution_count": null,
   "metadata": {},
   "outputs": [],
   "source": [
    "# variables and functions"
   ]
  },
  {
   "cell_type": "code",
   "execution_count": null,
   "metadata": {},
   "outputs": [],
   "source": [
    "# some code doing something ..."
   ]
  }
 ],
 "metadata": {
  "kernelspec": {
   "display_name": "Python 3",
   "language": "python",
   "name": "python3"
  },
  "language_info": {
   "codemirror_mode": {
    "name": "ipython",
    "version": 3
   },
   "file_extension": ".py",
   "mimetype": "text/x-python",
   "name": "python",
   "nbconvert_exporter": "python",
   "pygments_lexer": "ipython3",
   "version": "3.7.3"
  }
 },
 "nbformat": 4,
 "nbformat_minor": 2
}
