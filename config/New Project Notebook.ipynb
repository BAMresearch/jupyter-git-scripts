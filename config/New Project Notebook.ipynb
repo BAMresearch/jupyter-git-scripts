{
 "cells": [
  {
   "cell_type": "markdown",
   "metadata": {},
   "source": [
    "# Some meaningful title\n",
    "\n",
    "<img align=\"left\" style=\"padding: 0em 1em 0 0;\" src=\"info/avatar-generic.png\" height=\"110px\" width=\"110px\">\n",
    "<!-- https://commons.wikimedia.org/wiki/File:Portrait_Placeholder.png#Licensing -->\n",
    "<table align=\"left\" style=\"text-align: left;\">\n",
    "    <tr><th>Author:</th><th>&lt; full name &gt;</th></tr>\n",
    "    <tr><td>Email: </td><td>&lt; email &gt;@&lt; server &gt;.de</td></tr>\n",
    "    <tr><td>Phone: </td><td>+49 30 xxxx</td></tr>\n",
    "    <tr><td>Fax:   </td><td>+49 30 yyyy</td></tr>\n",
    "    <tr><td></td><td></td></tr>\n",
    "</table>"
   ]
  },
  {
   "cell_type": "code",
   "execution_count": null,
   "metadata": {},
   "outputs": [],
   "source": [
    "from commontools import checkRepo, readPDH, reBin, currentNBpath\n",
    "checkRepo()"
   ]
  },
  {
   "cell_type": "code",
   "execution_count": null,
   "metadata": {},
   "outputs": [],
   "source": [
    "# some code ..."
   ]
  },
  {
   "cell_type": "code",
   "execution_count": null,
   "metadata": {},
   "outputs": [],
   "source": []
  }
 ],
 "metadata": {
  "kernelspec": {
   "display_name": "Python 3",
   "language": "python",
   "name": "python3"
  },
  "language_info": {
   "codemirror_mode": {
    "name": "ipython",
    "version": 3
   },
   "file_extension": ".py",
   "mimetype": "text/x-python",
   "name": "python",
   "nbconvert_exporter": "python",
   "pygments_lexer": "ipython3",
   "version": "3.6.7"
  }
 },
 "nbformat": 4,
 "nbformat_minor": 2
}
